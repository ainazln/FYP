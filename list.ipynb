{
 "cells": [
  {
   "cell_type": "code",
   "execution_count": 1,
   "metadata": {},
   "outputs": [],
   "source": [
    "import matplotlib.pyplot as plt\n",
    "import numpy as np\n",
    "import pandas as pd"
   ]
  },
  {
   "cell_type": "code",
   "execution_count": 3,
   "metadata": {},
   "outputs": [
    {
     "data": {
      "text/html": [
       "<div>\n",
       "<style scoped>\n",
       "    .dataframe tbody tr th:only-of-type {\n",
       "        vertical-align: middle;\n",
       "    }\n",
       "\n",
       "    .dataframe tbody tr th {\n",
       "        vertical-align: top;\n",
       "    }\n",
       "\n",
       "    .dataframe thead th {\n",
       "        text-align: right;\n",
       "    }\n",
       "</style>\n",
       "<table border=\"1\" class=\"dataframe\">\n",
       "  <thead>\n",
       "    <tr style=\"text-align: right;\">\n",
       "      <th></th>\n",
       "      <th>Unnamed: 0</th>\n",
       "      <th>time</th>\n",
       "      <th>title</th>\n",
       "      <th>rating</th>\n",
       "      <th>review</th>\n",
       "      <th>user</th>\n",
       "    </tr>\n",
       "  </thead>\n",
       "  <tbody>\n",
       "    <tr>\n",
       "      <th>0</th>\n",
       "      <td>0</td>\n",
       "      <td>12/17/2020 23:03</td>\n",
       "      <td>VOIR Drawstring Bag VN201460-C082003</td>\n",
       "      <td>1.0</td>\n",
       "      <td>Not satisfy.\\nBecause the bag seems like show ...</td>\n",
       "      <td>s*****3VOIR Drawstring Bag VN201460-C082003\\nV...</td>\n",
       "    </tr>\n",
       "    <tr>\n",
       "      <th>1</th>\n",
       "      <td>1</td>\n",
       "      <td>10/15/2020 21:01</td>\n",
       "      <td>VOIR Crossbody Bag VN201435-C032001</td>\n",
       "      <td>1.0</td>\n",
       "      <td>Request return refund still send the product a...</td>\n",
       "      <td>d*****mVOIR Crossbody Bag VN201435-C032001\\nVa...</td>\n",
       "    </tr>\n",
       "    <tr>\n",
       "      <th>2</th>\n",
       "      <td>2</td>\n",
       "      <td>10/14/2020 00:26</td>\n",
       "      <td>VOIR Mid-Sized Sling Bag with Zip Closure VN20...</td>\n",
       "      <td>1.0</td>\n",
       "      <td>1. 这款沒打圈Voir beg在这里买的，完全没有标签拉链很普通也没标签，外面款式跟正品做...</td>\n",
       "      <td>c*****nVOIR Mid-Sized Sling Bag with Zip Closu...</td>\n",
       "    </tr>\n",
       "    <tr>\n",
       "      <th>3</th>\n",
       "      <td>3</td>\n",
       "      <td>10/8/2020 17:31</td>\n",
       "      <td>[SHOPEE EXCLUSIVE] VOIR Quilted Sling Bag with...</td>\n",
       "      <td>1.0</td>\n",
       "      <td>Dissatisfied..please exchange this bag. Have d...</td>\n",
       "      <td>maisyarina</td>\n",
       "    </tr>\n",
       "    <tr>\n",
       "      <th>4</th>\n",
       "      <td>4</td>\n",
       "      <td>10/1/2020 17:00</td>\n",
       "      <td>VOIR Quilted Crossbody Bag VN201428-C031912</td>\n",
       "      <td>1.0</td>\n",
       "      <td>Beg koyak bahagian tepi bawah.. Dlm jahitan x ...</td>\n",
       "      <td>syirashopping</td>\n",
       "    </tr>\n",
       "  </tbody>\n",
       "</table>\n",
       "</div>"
      ],
      "text/plain": [
       "   Unnamed: 0              time  \\\n",
       "0           0  12/17/2020 23:03   \n",
       "1           1  10/15/2020 21:01   \n",
       "2           2  10/14/2020 00:26   \n",
       "3           3   10/8/2020 17:31   \n",
       "4           4   10/1/2020 17:00   \n",
       "\n",
       "                                               title  rating  \\\n",
       "0               VOIR Drawstring Bag VN201460-C082003     1.0   \n",
       "1                VOIR Crossbody Bag VN201435-C032001     1.0   \n",
       "2  VOIR Mid-Sized Sling Bag with Zip Closure VN20...     1.0   \n",
       "3  [SHOPEE EXCLUSIVE] VOIR Quilted Sling Bag with...     1.0   \n",
       "4        VOIR Quilted Crossbody Bag VN201428-C031912     1.0   \n",
       "\n",
       "                                              review  \\\n",
       "0  Not satisfy.\\nBecause the bag seems like show ...   \n",
       "1  Request return refund still send the product a...   \n",
       "2  1. 这款沒打圈Voir beg在这里买的，完全没有标签拉链很普通也没标签，外面款式跟正品做...   \n",
       "3  Dissatisfied..please exchange this bag. Have d...   \n",
       "4  Beg koyak bahagian tepi bawah.. Dlm jahitan x ...   \n",
       "\n",
       "                                                user  \n",
       "0  s*****3VOIR Drawstring Bag VN201460-C082003\\nV...  \n",
       "1  d*****mVOIR Crossbody Bag VN201435-C032001\\nVa...  \n",
       "2  c*****nVOIR Mid-Sized Sling Bag with Zip Closu...  \n",
       "3                                         maisyarina  \n",
       "4                                      syirashopping  "
      ]
     },
     "execution_count": 3,
     "metadata": {},
     "output_type": "execute_result"
    }
   ],
   "source": [
    "df = pd.read_csv(\"dataclean.csv\") #Reading the dataset in a dataframe using Pandas\n",
    "df.head()"
   ]
  },
  {
   "cell_type": "code",
   "execution_count": null,
   "metadata": {},
   "outputs": [],
   "source": [
    "# dropping passed columns \n",
    "df.drop([\"Image\", \"Shop\", \"Shop_URL\", \"Like\"], axis = 1, inplace = True) \n",
    "df.head()"
   ]
  }
 ],
 "metadata": {
  "kernelspec": {
   "display_name": "Python 3",
   "language": "python",
   "name": "python3"
  },
  "language_info": {
   "codemirror_mode": {
    "name": "ipython",
    "version": 3
   },
   "file_extension": ".py",
   "mimetype": "text/x-python",
   "name": "python",
   "nbconvert_exporter": "python",
   "pygments_lexer": "ipython3",
   "version": "3.8.3"
  }
 },
 "nbformat": 4,
 "nbformat_minor": 4
}
